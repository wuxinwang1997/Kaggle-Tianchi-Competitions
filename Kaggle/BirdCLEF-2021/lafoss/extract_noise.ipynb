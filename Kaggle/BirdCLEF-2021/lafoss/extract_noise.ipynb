{
 "cells": [
  {
   "cell_type": "code",
   "execution_count": 12,
   "id": "gorgeous-section",
   "metadata": {},
   "outputs": [],
   "source": [
    "from tqdm.notebook import tqdm\n",
    "import numpy as np\n",
    "import pandas as pd\n",
    "import os,cv2,gc\n",
    "\n",
    "import soundfile\n",
    "import librosa\n",
    "import random\n",
    "import torch\n",
    "from torch.utils.data import Dataset, DataLoader\n",
    "from sklearn.model_selection import StratifiedKFold\n",
    "\n",
    "from fastai.vision.all import *\n",
    "from radam import *\n",
    "\n",
    "#import torchaudio"
   ]
  },
  {
   "cell_type": "code",
   "execution_count": 13,
   "id": "respiratory-router",
   "metadata": {},
   "outputs": [],
   "source": [
    "PATH_VAL = 'data/train_soundscapes/'\n",
    "LABELS = 'data/train_metadata.csv'\n",
    "LABELS_VAL = 'data/train_soundscape_labels.csv'\n",
    "NUM_WORKERS = 12\n",
    "SEED = 2021\n",
    "OUT = 'data'\n",
    "bs = 160\n",
    "\n",
    "class config:\n",
    "    sampling_rate = 32000\n",
    "    duration = 5.0075#10.015#20.03#5\n",
    "    sz = 16\n",
    "    samples = int(sampling_rate*duration)\n",
    "    top_db = 60 # Noise filtering, default = 60\n",
    "    \n",
    "    # Frequencies kept in spectrograms\n",
    "    fmin = 50\n",
    "    fmax =  14000\n",
    "\n",
    "    # Spectrogram parameters\n",
    "    n_mels = 128#128 # = spec_height\n",
    "    n_fft = 1024\n",
    "    hop_length = 313\n",
    "    \n",
    "def seed_everything(seed):\n",
    "    random.seed(seed)\n",
    "    os.environ['PYTHONHASHSEED'] = str(seed)\n",
    "    np.random.seed(seed)\n",
    "    torch.manual_seed(seed)\n",
    "    torch.cuda.manual_seed(seed)\n",
    "    torch.backends.cudnn.deterministic = True\n",
    "    torch.backends.cudnn.benchmark = True\n",
    "\n",
    "os.makedirs(OUT, exist_ok=True)\n",
    "seed_everything(SEED)"
   ]
  },
  {
   "cell_type": "code",
   "execution_count": 20,
   "id": "undefined-portland",
   "metadata": {},
   "outputs": [],
   "source": [
    "#folds 0-3 are based on files\n",
    "#folds 4-5 correspond to time <= and > 300\n",
    "noise_split = [['7954_COR_20190923.ogg','11254_COR_20190904.ogg','54955_SSW_20170617.ogg',\n",
    " '51010_SSW_20170513.ogg','18003_COR_20190904.ogg'],\n",
    "['7019_COR_20190904.ogg','14473_SSW_20170701.ogg','57610_COR_20190904.ogg',\n",
    "'44957_COR_20190923.ogg','21767_COR_20190904.ogg'],\n",
    "['31928_COR_20191004.ogg','50878_COR_20191004.ogg','42907_SSW_20170708.ogg',\n",
    " '26709_SSW_20170701.ogg','28933_SSW_20170408.ogg'],\n",
    "['20152_SSW_20170805.ogg','7843_SSW_20170325.ogg','26746_COR_20191004.ogg',\n",
    " '10534_SSW_20170429.ogg','2782_SSW_20170701.ogg']]"
   ]
  },
  {
   "cell_type": "code",
   "execution_count": 21,
   "id": "alpha-claim",
   "metadata": {},
   "outputs": [],
   "source": [
    "class BirdDatasetVal(Dataset):\n",
    "    def __init__(self, fold):\n",
    "        df = pd.read_csv(LABELS)\n",
    "        label_map = {p:i for i,p in enumerate(sorted(df.primary_label.unique()))}\n",
    "        df = pd.read_csv(LABELS_VAL)\n",
    "        df['file'] = ['_'.join(row.row_id.split('_')[:-1]) for idx,row in df.iterrows()]\n",
    "        df['birds'] = [[label_map[b] for b in row.birds.split(' ') if b in label_map] for idx,row in df.iterrows()]\n",
    "        file_map = {'_'.join(f.split('_')[:-1]):f for f in os.listdir(PATH_VAL)}\n",
    "        df['file'] = df.file.map(file_map)\n",
    "        \n",
    "        if fold < len(noise_split): self.df = df[df.file.isin(noise_split[fold])]\n",
    "        elif fold == 4: self.df = df.loc[df.seconds <= 300].reset_index(drop=True)\n",
    "        elif fold == 5: self.df = df.loc[df.seconds > 300].reset_index(drop=True)\n",
    "        else: self.df = df\n",
    "        self.data = {fname:soundfile.read(os.path.join(PATH_VAL,fname))[0] for fname in list(df.file.unique())}\n",
    "        \n",
    "    def __len__(self):\n",
    "        return len(self.df)\n",
    "\n",
    "    def __getitem__(self, idx):\n",
    "        label,fname,end = self.df.iloc[idx][['birds','file','seconds']]\n",
    "        end *= config.sampling_rate\n",
    "        length = config.samples\n",
    "        start = max(0, end - length)\n",
    "\n",
    "        wave = self.data[fname][start:start+length]\n",
    "        return wave,label,fname"
   ]
  },
  {
   "cell_type": "code",
   "execution_count": 27,
   "id": "prompt-running",
   "metadata": {},
   "outputs": [],
   "source": [
    "for fold in [3]:#range(6):\n",
    "    ds = BirdDatasetVal(fold=fold)\n",
    "    bg = []\n",
    "    for x,y,name in ds: \n",
    "        if len(y) == 0: bg.append(x)\n",
    "    bg = np.concatenate(bg)\n",
    "    np.save(f'data/noise_{fold}', bg)"
   ]
  },
  {
   "cell_type": "code",
   "execution_count": null,
   "id": "durable-turner",
   "metadata": {},
   "outputs": [],
   "source": []
  }
 ],
 "metadata": {
  "kernelspec": {
   "display_name": "fastai2",
   "language": "python",
   "name": "fastai2"
  },
  "language_info": {
   "codemirror_mode": {
    "name": "ipython",
    "version": 3
   },
   "file_extension": ".py",
   "mimetype": "text/x-python",
   "name": "python",
   "nbconvert_exporter": "python",
   "pygments_lexer": "ipython3",
   "version": "3.8.8"
  }
 },
 "nbformat": 4,
 "nbformat_minor": 5
}
