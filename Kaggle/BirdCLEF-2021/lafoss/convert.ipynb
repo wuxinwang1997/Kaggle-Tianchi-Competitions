{
 "cells": [
  {
   "cell_type": "code",
   "execution_count": 1,
   "metadata": {},
   "outputs": [],
   "source": [
    "from fastai.vision.all import *"
   ]
  },
  {
   "cell_type": "code",
   "execution_count": 5,
   "metadata": {},
   "outputs": [],
   "source": [
    "import os\n",
    "import cv2\n",
    "import skimage.io\n",
    "from tqdm.notebook import tqdm\n",
    "import numpy as np\n",
    "import pandas as pd\n",
    "\n",
    "from joblib import Parallel, delayed\n",
    "import multiprocessing\n",
    "from pydub import AudioSegment\n",
    "from fnmatch import fnmatch"
   ]
  },
  {
   "cell_type": "code",
   "execution_count": 6,
   "metadata": {},
   "outputs": [],
   "source": [
    "PATH = 'data/rainforest/test/'\n",
    "OUT = 'data/rainforest/test_c/'\n",
    "os.makedirs(OUT, exist_ok=True)"
   ]
  },
  {
   "cell_type": "code",
   "execution_count": 7,
   "metadata": {},
   "outputs": [],
   "source": [
    "#pattern = \"*.ogg\"\n",
    "pattern = \"*.flac\"\n",
    "paths = []\n",
    "for p, subdirs, files in os.walk(PATH):\n",
    "    for d in subdirs:\n",
    "        os.makedirs(os.path.join(OUT,d), exist_ok=True)\n",
    "    for name in files:\n",
    "        if fnmatch(name, pattern):\n",
    "            paths.append(os.path.join(p, name))\n",
    "            \n",
    "def convert(path):\n",
    "    try:\n",
    "        #out = os.path.join(OUT,path.split('/')[-2],os.path.basename(path)[:-3] + 'wav')\n",
    "        #out = os.path.join(OUT,os.path.basename(path)[:-3] + 'wav')\n",
    "        #sound = AudioSegment.from_ogg(path).set_channels(1).set_frame_rate(32000)\n",
    "        out = os.path.join(OUT,os.path.basename(path)[:-4] + 'wav')\n",
    "        sound = AudioSegment.from_file(path,'flac').set_channels(1).set_frame_rate(32000)\n",
    "        sound.export(out, format=\"wav\")\n",
    "    except Exception as e:\n",
    "        print(path,e)"
   ]
  },
  {
   "cell_type": "code",
   "execution_count": 8,
   "metadata": {
    "scrolled": true
   },
   "outputs": [
    {
     "data": {
      "application/vnd.jupyter.widget-view+json": {
       "model_id": "e16ca3bf3ddb435fa6a588d067e723b7",
       "version_major": 2,
       "version_minor": 0
      },
      "text/plain": [
       "  0%|          | 0/1992 [00:00<?, ?it/s]"
      ]
     },
     "metadata": {},
     "output_type": "display_data"
    }
   ],
   "source": [
    "num_cores = 12#multiprocessing.cpu_count()\n",
    "results = Parallel(n_jobs=num_cores)(delayed(convert)(name) for name in tqdm(paths))"
   ]
  },
  {
   "cell_type": "code",
   "execution_count": null,
   "metadata": {},
   "outputs": [],
   "source": [
    "#reading 7 vs 3.5 min"
   ]
  },
  {
   "cell_type": "code",
   "execution_count": null,
   "metadata": {},
   "outputs": [],
   "source": []
  }
 ],
 "metadata": {
  "kernelspec": {
   "display_name": "kaggle",
   "language": "python",
   "name": "kaggle"
  },
  "language_info": {
   "codemirror_mode": {
    "name": "ipython",
    "version": 3
   },
   "file_extension": ".py",
   "mimetype": "text/x-python",
   "name": "python",
   "nbconvert_exporter": "python",
   "pygments_lexer": "ipython3",
   "version": "3.8.8"
  }
 },
 "nbformat": 4,
 "nbformat_minor": 4
}
